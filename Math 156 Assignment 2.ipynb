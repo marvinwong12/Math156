{
 "cells": [
  {
   "cell_type": "code",
   "execution_count": 199,
   "id": "69ed84a3",
   "metadata": {},
   "outputs": [],
   "source": [
    "import pandas as pd\n",
    "import numpy as np\n",
    "import matplotlib.pyplot as plt\n",
    "from sklearn.model_selection import train_test_split\n",
    "from sklearn.preprocessing import MinMaxScaler"
   ]
  },
  {
   "cell_type": "markdown",
   "id": "f79677c9",
   "metadata": {},
   "source": [
    "## a)"
   ]
  },
  {
   "cell_type": "code",
   "execution_count": 204,
   "id": "fc0d3704",
   "metadata": {},
   "outputs": [],
   "source": [
    "#read in red wine dataset\n",
    "rawdata = pd.read_csv(\"~/Downloads/wine+quality/winequality-red.csv\", sep = \";\")"
   ]
  },
  {
   "cell_type": "code",
   "execution_count": 205,
   "id": "cb77ef44",
   "metadata": {},
   "outputs": [],
   "source": [
    "r = np.array(rawdata)"
   ]
  },
  {
   "cell_type": "code",
   "execution_count": 206,
   "id": "f479ab1b",
   "metadata": {},
   "outputs": [
    {
     "data": {
      "text/plain": [
       "array([[ 7.4  ,  0.7  ,  0.   , ...,  0.56 ,  9.4  ,  5.   ],\n",
       "       [ 7.8  ,  0.88 ,  0.   , ...,  0.68 ,  9.8  ,  5.   ],\n",
       "       [ 7.8  ,  0.76 ,  0.04 , ...,  0.65 ,  9.8  ,  5.   ],\n",
       "       ...,\n",
       "       [ 6.3  ,  0.51 ,  0.13 , ...,  0.75 , 11.   ,  6.   ],\n",
       "       [ 5.9  ,  0.645,  0.12 , ...,  0.71 , 10.2  ,  5.   ],\n",
       "       [ 6.   ,  0.31 ,  0.47 , ...,  0.66 , 11.   ,  6.   ]])"
      ]
     },
     "execution_count": 206,
     "metadata": {},
     "output_type": "execute_result"
    }
   ],
   "source": [
    "r"
   ]
  },
  {
   "cell_type": "code",
   "execution_count": 209,
   "id": "ed3f0608",
   "metadata": {},
   "outputs": [],
   "source": [
    "scaler = MinMaxScaler()"
   ]
  },
  {
   "cell_type": "markdown",
   "id": "28f1d26d",
   "metadata": {},
   "source": [
    "## b)"
   ]
  },
  {
   "cell_type": "code",
   "execution_count": 231,
   "id": "3e4c40d9",
   "metadata": {},
   "outputs": [],
   "source": [
    "#split dataset intro training, test, validation\n",
    "X = r[:, :-1]\n",
    "y = r[:,-1]\n",
    "\n",
    "#scale data\n",
    "scaler.fit(X)\n",
    "X = scaler.transform(X)\n"
   ]
  },
  {
   "cell_type": "code",
   "execution_count": 232,
   "id": "77dffd1c",
   "metadata": {},
   "outputs": [],
   "source": [
    "X_2, X_test, y_2, y_test = train_test_split(X, y , test_size=0.2, random_state=2)\n",
    "\n",
    "X_train, X_val, y_train, y_val = train_test_split(X_2, y_2, test_size=0.125, random_state=2)"
   ]
  },
  {
   "cell_type": "markdown",
   "id": "5b157ce7",
   "metadata": {},
   "source": [
    "## c)"
   ]
  },
  {
   "cell_type": "code",
   "execution_count": 211,
   "id": "9cecb9ab",
   "metadata": {},
   "outputs": [],
   "source": [
    "def concat_ones(X):\n",
    "    # Add a 1 in front of every training sample for the bias term.\n",
    "    return np.concatenate([np.ones(shape=(len(X), 1)), X], axis=1)\n",
    "\n",
    "def RMSE(y_true, y_pred):\n",
    "    residues = y_true - y_pred\n",
    "    return np.sqrt(np.mean(residues**2))\n",
    "\n",
    "\n",
    "class LR:\n",
    "    def __init__(self, learn_bias=False):\n",
    "        self.beta = None\n",
    "        self.learn_bias = learn_bias\n",
    "\n",
    "    def fit(self, X, y):\n",
    "        if self.learn_bias:\n",
    "            X = concat_ones(X)\n",
    "        self.beta = np.linalg.inv(X.T @ X) @ X.T @ y\n",
    "\n",
    "    def predict(self, X_test):\n",
    "        if self.learn_bias:\n",
    "            X_test = concat_ones(X_test)\n",
    "        if self.beta is None:\n",
    "            raise ValueError('Fit the LR model before predicting.')\n",
    "        return X_test @ self.beta\n",
    "    \n",
    "model = LR()"
   ]
  },
  {
   "cell_type": "code",
   "execution_count": 212,
   "id": "eb6c27c7",
   "metadata": {},
   "outputs": [],
   "source": [
    "# train a LR model on the training data\n",
    "model = LR(learn_bias=True)\n",
    "model.fit(X_train, y_train)"
   ]
  },
  {
   "cell_type": "markdown",
   "id": "8a528d90",
   "metadata": {},
   "source": [
    "## d)"
   ]
  },
  {
   "cell_type": "code",
   "execution_count": 213,
   "id": "e392d209",
   "metadata": {},
   "outputs": [
    {
     "data": {
      "text/plain": [
       "<matplotlib.collections.PathCollection at 0x17e85dc30>"
      ]
     },
     "execution_count": 213,
     "metadata": {},
     "output_type": "execute_result"
    },
    {
     "data": {
      "image/png": "[encoded data removed]",
      "text/plain": [
       "<Figure size 640x480 with 1 Axes>"
      ]
     },
     "metadata": {},
     "output_type": "display_data"
    }
   ],
   "source": [
    "# predicted targets of training set using fitted model\n",
    "y_train_pred = model.predict(X_train)\n",
    "\n",
    "#plotting actual training target vs predicted values\n",
    "plt.scatter(y_train_pred,y_train)"
   ]
  },
  {
   "cell_type": "markdown",
   "id": "020a1125",
   "metadata": {},
   "source": [
    "We can see that on the y axis, since all our actual target values are integers, the points lie on well defined horizontal lines. On the x axis, we are plotting against the predicted target values. Looking at the mean/median for each real target value, the model seems to have most success with predicting a value of six, whereas at more extreme values like 3 and 8 the model predicts values closer to the center."
   ]
  },
  {
   "cell_type": "markdown",
   "id": "7ed88ab2",
   "metadata": {},
   "source": [
    "## e)"
   ]
  },
  {
   "cell_type": "code",
   "execution_count": 214,
   "id": "9a3682ca",
   "metadata": {},
   "outputs": [
    {
     "name": "stdout",
     "output_type": "stream",
     "text": [
      "RMSE of Training Set = 0.6389134931707996\n",
      "RMSE of Testing Set = 0.6521075142485163\n"
     ]
    }
   ],
   "source": [
    "# predicted targets of testing set using fitted model\n",
    "y_pred = model.predict(X_test)\n",
    "\n",
    "print(f'RMSE of Training Set = {RMSE(y_train, y_train_pred)}')\n",
    "print(f'RMSE of Testing Set = {RMSE(y_test, y_pred)}')"
   ]
  },
  {
   "cell_type": "markdown",
   "id": "f1a7fe17",
   "metadata": {},
   "source": [
    "## f)"
   ]
  },
  {
   "cell_type": "code",
   "execution_count": 255,
   "id": "bba5fbaf",
   "metadata": {},
   "outputs": [],
   "source": [
    "step_sizes = [0.01,0.005,0.001,0.0005]\n",
    "max_iterations = 100000\n",
    "epsilon = 1e-18\n",
    "\n",
    "def LeastMeanSquares(X, y, step_size, max_iterations, epsilon): #function implementing least mean squares algorithm\n",
    "    # add bias to X\n",
    "    X = concat_ones(X)\n",
    "    #randomly initialize weights\n",
    "    w = np.random.rand(X.shape[1])\n",
    "    #combine X and y for shuffling\n",
    "    A = np.hstack((X, y[:, np.newaxis]))\n",
    "    \n",
    "    for i in range(max_iterations): #stochastic gradient descent\n",
    "        n = A.shape[0]\n",
    "        #reset index every epoch\n",
    "        j = i % n   \n",
    "        \n",
    "        #reshuffle A every epoch\n",
    "        if i % n == 0:\n",
    "            np.random.shuffle(A)\n",
    "        \n",
    "        #split back into X and y\n",
    "        X = A[:, :-1]\n",
    "        X = X\n",
    "        y = A[:,-1]\n",
    "\n",
    "        #calculate error\n",
    "        y_pred = X[j,:] @ w\n",
    "        error = y[j] - y_pred\n",
    "        \n",
    "        #update weights\n",
    "        gradient = X[j,:] * error\n",
    "        w += step_size * gradient\n",
    "        \n",
    "        #stopping condition\n",
    "        if np.linalg.norm(X[j,:]*error, 2) <= epsilon:\n",
    "            break\n",
    "        \n",
    "    return w"
   ]
  },
  {
   "cell_type": "code",
   "execution_count": 256,
   "id": "541ae6a9",
   "metadata": {},
   "outputs": [
    {
     "name": "stdout",
     "output_type": "stream",
     "text": [
      "RMSE of Validation Set = 0.6938697845841917\n",
      "RMSE of Validation Set = 0.6998463261238033\n",
      "RMSE of Validation Set = 0.7405436457762862\n",
      "RMSE of Validation Set = 0.7737251018841768\n"
     ]
    }
   ],
   "source": [
    "for step in step_sizes:\n",
    "    pred = concat_ones(X_val) @ LeastMeanSquares(X_train, y_train, step, max_iterations, epsilon)\n",
    "    print(f'RMSE of Validation Set = {RMSE(y_val, pred)}')"
   ]
  },
  {
   "cell_type": "code",
   "execution_count": 254,
   "id": "48cf10ac",
   "metadata": {},
   "outputs": [
    {
     "name": "stdout",
     "output_type": "stream",
     "text": [
      "RMSE of Test Set = 0.6532384129492199\n"
     ]
    }
   ],
   "source": [
    "opt_step = 0.01\n",
    "pred = concat_ones(X_test) @ LeastMeanSquares(X_train, y_train, opt_step, max_iterations, epsilon)\n",
    "print(f'RMSE of Test Set = {RMSE(y_test, pred)}')"
   ]
  }
 ],
 "metadata": {
  "kernelspec": {
   "display_name": "Python 3 (ipykernel)",
   "language": "python",
   "name": "python3"
  },
  "language_info": {
   "codemirror_mode": {
    "name": "ipython",
    "version": 3
   },
   "file_extension": ".py",
   "mimetype": "text/x-python",
   "name": "python",
   "nbconvert_exporter": "python",
   "pygments_lexer": "ipython3",
   "version": "3.10.7"
  }
 },
 "nbformat": 4,
 "nbformat_minor": 5
}
